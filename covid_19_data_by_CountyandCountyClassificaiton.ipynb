{
  "nbformat": 4,
  "nbformat_minor": 0,
  "metadata": {
    "colab": {
      "name": "covid-19_data_by_CountyandCountyClassificaiton.ipynb",
      "provenance": []
    },
    "kernelspec": {
      "name": "python3",
      "display_name": "Python 3"
    },
    "language_info": {
      "name": "python"
    }
  },
  "cells": [
    {
      "cell_type": "code",
      "metadata": {
        "colab": {
          "base_uri": "https://localhost:8080/"
        },
        "id": "BXnQuH_Sxkh9",
        "outputId": "0a32d1f0-eb45-46ba-cd50-497205c7a27f"
      },
      "source": [
        "import pandas as pd\n",
        "\n",
        "url = 'https://raw.githubusercontent.com/CSSEGISandData/COVID-19/master/csse_covid_19_data/csse_covid_19_time_series/time_series_covid19_confirmed_US.csv'\n",
        "df = pd.read_csv(url, index_col=0, error_bad_lines=False)\n",
        "df = df[df['Admin2'].notnull()]\n",
        "df = df.drop('code3', 1)\n",
        "df = df.drop('Lat', 1)\n",
        "df = df.drop('Long_', 1)\n",
        "df = df.drop('Combined_Key', 1)\n",
        "df = df.drop('FIPS', 1)\n",
        "\n",
        "# print(len(df))\n",
        "# county_sums = df.T[5:].sum()\n",
        "df = df.join(county_sums.rename('total_cases'))\n",
        "print(df.columns)\n",
        "# print(df.T[5:].sum())\n",
        "# row1 = df.iloc[0,:]\n",
        "# print(row1[4:])"
      ],
      "execution_count": 89,
      "outputs": [
        {
          "output_type": "stream",
          "text": [
            "Index(['iso2', 'iso3', 'Admin2', 'Province_State', 'Country_Region', '1/22/20',\n",
            "       '1/23/20', '1/24/20', '1/25/20', '1/26/20',\n",
            "       ...\n",
            "       '6/9/21', '6/10/21', '6/11/21', '6/12/21', '6/13/21', '6/14/21',\n",
            "       '6/15/21', '6/16/21', '6/17/21', 'total_cases'],\n",
            "      dtype='object', length=519)\n"
          ],
          "name": "stdout"
        }
      ]
    },
    {
      "cell_type": "code",
      "metadata": {
        "colab": {
          "base_uri": "https://localhost:8080/"
        },
        "id": "1sXPFCx4JbuA",
        "outputId": "df53fd52-4548-4ed2-f294-ad591b0a0a36"
      },
      "source": [
        "url3 = 'https://raw.githubusercontent.com/fields8-1863299/Covid-19-Exploratory/master/state_abbreviation_mapping.csv'\n",
        "df3 = pd.read_csv(url3, error_bad_lines=False)\n",
        "df3.columns = ['State', \"Abrev\"]\n",
        "df4 = df.join(df3.set_index('State'), on='Province_State')\n",
        "df4 = df4[df4['Admin2'] != \"Unassigned\"]\n",
        "df4['County_State_Key'] = df4['Admin2'] + \" \" + df4['Abrev']\n",
        "print(df4)"
      ],
      "execution_count": 92,
      "outputs": [
        {
          "output_type": "stream",
          "text": [
            "         iso2 iso3      Admin2  ... total_cases Abrev  County_State_Key\n",
            "UID                             ...                                    \n",
            "84001001   US  USA     Autauga  ...   1439220.0    AL        Autauga AL\n",
            "84001003   US  USA     Baldwin  ...   4441917.0    AL        Baldwin AL\n",
            "84001005   US  USA     Barbour  ...    533787.0    AL        Barbour AL\n",
            "84001007   US  USA        Bibb  ...    562697.0    AL           Bibb AL\n",
            "84001009   US  USA      Blount  ...   1401380.0    AL         Blount AL\n",
            "...       ...  ...         ...  ...         ...   ...               ...\n",
            "84056037   US  USA  Sweetwater  ...    811540.0    WY     Sweetwater WY\n",
            "84056039   US  USA       Teton  ...    730961.0    WY          Teton WY\n",
            "84056041   US  USA       Uinta  ...    454933.0    WY          Uinta WY\n",
            "84056043   US  USA    Washakie  ...    190245.0    WY       Washakie WY\n",
            "84056045   US  USA      Weston  ...    132014.0    WY         Weston WY\n",
            "\n",
            "[3284 rows x 521 columns]\n"
          ],
          "name": "stdout"
        }
      ]
    },
    {
      "cell_type": "code",
      "metadata": {
        "colab": {
          "base_uri": "https://localhost:8080/"
        },
        "id": "E7G4ziCWFgwh",
        "outputId": "15e23b39-4441-43a2-dbf1-c4bba7b3b4c7"
      },
      "source": [
        "url2 = 'https://raw.githubusercontent.com/fields8-1863299/Covid-19-Exploratory/master/2013_county_encodings.csv'\n",
        "df2 = pd.read_csv(url2, index_col=0, error_bad_lines=False, encoding='latin1')\n",
        "df2 = df2.loc[:, df2.columns.isin(['State Abr.', 'County name', '2013 code'])]\n",
        "df2['County name'] = df2['County name'].apply(lambda x: x.replace(' County', ''))\n",
        "df2['County_State_Key'] = df2['County name'] + \" \" + df2['State Abr.']\n",
        "print(df2)"
      ],
      "execution_count": 93,
      "outputs": [
        {
          "output_type": "stream",
          "text": [
            "          State Abr. County name  2013 code County_State_Key\n",
            "FIPS code                                                   \n",
            "1001              AL     Autauga          3       Autauga AL\n",
            "1003              AL     Baldwin          4       Baldwin AL\n",
            "1005              AL     Barbour          6       Barbour AL\n",
            "1007              AL        Bibb          2          Bibb AL\n",
            "1009              AL      Blount          2        Blount AL\n",
            "...              ...         ...        ...              ...\n",
            "56037             WY  Sweetwater          5    Sweetwater WY\n",
            "56039             WY       Teton          5         Teton WY\n",
            "56041             WY       Uinta          5         Uinta WY\n",
            "56043             WY    Washakie          6      Washakie WY\n",
            "56045             WY      Weston          6        Weston WY\n",
            "\n",
            "[3149 rows x 4 columns]\n"
          ],
          "name": "stdout"
        }
      ]
    },
    {
      "cell_type": "code",
      "metadata": {
        "colab": {
          "base_uri": "https://localhost:8080/"
        },
        "id": "RLTVyLf4NWUO",
        "outputId": "f1ab6cbc-901b-4529-d9a0-5eef0dac36cf"
      },
      "source": [
        "combined_df = df4.join(df2.set_index('County_State_Key'), on='County_State_Key')\n",
        "combined_df = combined_df.drop('iso2', 1)\n",
        "combined_df = combined_df.drop('iso3', 1)\n",
        "combined_df = combined_df.drop('Admin2', 1)\n",
        "combined_df = combined_df.drop('Country_Region', 1)\n",
        "combined_df = combined_df.drop('Province_State', 1)\n",
        "print(combined_df.columns)\n",
        "combined_df.to_csv('covid-19_data_by_CountyandCountyClassificaiton.csv')"
      ],
      "execution_count": 108,
      "outputs": [
        {
          "output_type": "stream",
          "text": [
            "Index(['1/22/20', '1/23/20', '1/24/20', '1/25/20', '1/26/20', '1/27/20',\n",
            "       '1/28/20', '1/29/20', '1/30/20', '1/31/20',\n",
            "       ...\n",
            "       '6/14/21', '6/15/21', '6/16/21', '6/17/21', 'total_cases', 'Abrev',\n",
            "       'County_State_Key', 'State Abr.', 'County name', '2013 code'],\n",
            "      dtype='object', length=519)\n"
          ],
          "name": "stdout"
        }
      ]
    },
    {
      "cell_type": "markdown",
      "metadata": {
        "id": "P8e6FtFiOlet"
      },
      "source": [
        "https://www.cdc.gov/nchs/data/series/sr_02/sr02_166.pdf\n",
        "\n",
        "For county encoding information.\n",
        "\n",
        "1. Large central metro—Counties in\n",
        "MSAs of 1 million or more population\n",
        "that:\n",
        "  1.\t Contain the entire population of the\n",
        "  largest principal city of the MSA, or\n",
        "  2.\t Have their entire population\n",
        "  contained in the largest principal city\n",
        "  of the MSA, or\n",
        "  3.\t Contain at least 250,000 inhabitants\n",
        "  of any principal city of the MSA.\n",
        "\n",
        "2. Large fringe metro—Counties in\n",
        "MSAs of 1 million or more population\n",
        "that did not qualify as large central\n",
        "metro counties.\n",
        "\n",
        "3. Medium metro—Counties in MSAs of\n",
        "populations of 250,000 to 999,999.\n",
        "\n",
        "4. Small metro—Counties in MSAs of\n",
        "populations less than 250,000.\n",
        "\n",
        "**Nonmetropolitan categories**\n",
        "\n",
        "5. Micropolitan—Counties in micropolitan\n",
        "statistical areas.\n",
        "\n",
        "6. Noncore—Nonmetropolitan counties\n",
        "that did not qualify as micropolitan"
      ]
    },
    {
      "cell_type": "markdown",
      "metadata": {
        "id": "w3YdCKJkPaX0"
      },
      "source": [
        "Data Sources\n",
        "\n",
        "https://www.cdc.gov/nchs/data_access/urban_rural.htm\n",
        "- For county type classification\n",
        "\n",
        "https://github.com/CSSEGISandData/COVID-19/tree/master/csse_covid_19_data/csse_covid_19_time_series\n",
        "- For covid-19 data by county"
      ]
    }
  ]
}